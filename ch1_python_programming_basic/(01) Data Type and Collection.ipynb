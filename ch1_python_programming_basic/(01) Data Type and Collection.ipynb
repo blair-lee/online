{
 "cells": [
  {
   "cell_type": "markdown",
   "metadata": {},
   "source": [
    "# python programming 기초\n",
    "## 💡 데이터 타입과 컬렉션\n",
    "<br>"
   ]
  },
  {
   "cell_type": "markdown",
   "metadata": {},
   "source": [
    "## 1. 기본 타입 및 변수의 이해"
   ]
  },
  {
   "cell_type": "markdown",
   "metadata": {},
   "source": [
    "**대입 연산자, == 비교 연산자**\n",
    "- 대입의 경우, 오른쪽 수식이나 값을 evaluation\n",
    "- 왼쪽에 명시된 변수에 해당 값을 대입\n",
    "- 변수는 해당 값을 가짐"
   ]
  },
  {
   "cell_type": "code",
   "execution_count": 4,
   "metadata": {},
   "outputs": [],
   "source": [
    "#int\n",
    "a = 10\n",
    "#float\n",
    "b = 11.4"
   ]
  },
  {
   "cell_type": "markdown",
   "metadata": {},
   "source": [
    "**comment : 주석**\n",
    "- #으로"
   ]
  },
  {
   "cell_type": "markdown",
   "metadata": {},
   "source": [
    "**print 함수**\n",
    "- 함수 : 특정 기능을 반복적으로 호출\n",
    "- 해당 변수의 값 출력\n",
    "- ,로 여러 변수 나열 후 한 줄에 출력 가능"
   ]
  },
  {
   "cell_type": "code",
   "execution_count": 5,
   "metadata": {},
   "outputs": [
    {
     "name": "stdout",
     "output_type": "stream",
     "text": [
      "10 11.4\n"
     ]
    }
   ],
   "source": [
    "print(a, b)"
   ]
  },
  {
   "cell_type": "markdown",
   "metadata": {},
   "source": [
    "- **print 함수 설정**\n",
    "    - sep : 구분자, 각 출력할 변수 사이에서 구별하는 역할을 함\n",
    "    - end : 마지막에 출력할 문자열"
   ]
  },
  {
   "cell_type": "code",
   "execution_count": 6,
   "metadata": {},
   "outputs": [
    {
     "name": "stdout",
     "output_type": "stream",
     "text": [
      "10*11.4*10*100!!"
     ]
    }
   ],
   "source": [
    "print(a, b, 10, 100, sep='*', end='!!')"
   ]
  },
  {
   "cell_type": "markdown",
   "metadata": {},
   "source": [
    "**변수 값 확인법**\n",
    "- print() 함수 사용\n",
    "- 변수 값을 코드의 마지막에 위치 시킨 후 실행 .. 이 경우 output으로 변수의 값이 출력"
   ]
  },
  {
   "cell_type": "code",
   "execution_count": 8,
   "metadata": {},
   "outputs": [
    {
     "data": {
      "text/plain": [
       "11.4"
      ]
     },
     "execution_count": 8,
     "metadata": {},
     "output_type": "execute_result"
    }
   ],
   "source": [
    "a = 10\n",
    "b = 11.4\n",
    "a\n",
    "b"
   ]
  },
  {
   "cell_type": "markdown",
   "metadata": {},
   "source": [
    "**variable naming(변수 이름 규칙)**\n",
    "- 숫자로 시작하는 이름 제외하고 영문 대소문자,-,숫자로 구성 가능\n",
    "- 일반적으로 정확하고 간결한 이름을 사용하는 것이 원칙!"
   ]
  },
  {
   "cell_type": "code",
   "execution_count": 9,
   "metadata": {},
   "outputs": [],
   "source": [
    "#모두 변수로 사용 가능(valid)\n",
    "abcABC = 100\n",
    "_abc124 = 200\n",
    "ABC124 = 200\n",
    "a456BC = 100"
   ]
  },
  {
   "cell_type": "markdown",
   "metadata": {},
   "source": [
    "**Reserved keywords(예약어)**\n",
    "- python에서 미리 선점하여 사용중인 키워드\n",
    "- 변수, 함수, 클래스 등등의 사용자 정의 이름으로 사용할 수 없음"
   ]
  },
  {
   "cell_type": "markdown",
   "metadata": {},
   "source": [
    "**type 함수**\n",
    "- 해당 변수, 값의 타입을 알고자 할 때 사용"
   ]
  },
  {
   "cell_type": "code",
   "execution_count": 13,
   "metadata": {},
   "outputs": [
    {
     "data": {
      "text/plain": [
       "int"
      ]
     },
     "execution_count": 13,
     "metadata": {},
     "output_type": "execute_result"
    }
   ],
   "source": [
    "a = 10\n",
    "type(a)"
   ]
  },
  {
   "cell_type": "markdown",
   "metadata": {},
   "source": [
    "**None**\n",
    "- 아무런 값을 갖지 않을 때\n",
    "- 일반적으로 변수가 초기값을 갖지 않게 하여 해당 변수를 생성할 때\n",
    "- 기타 언어의 NULL, nil 등과 같은 의미"
   ]
  },
  {
   "cell_type": "code",
   "execution_count": 14,
   "metadata": {},
   "outputs": [
    {
     "name": "stdout",
     "output_type": "stream",
     "text": [
      "None\n"
     ]
    }
   ],
   "source": [
    "c = None\n",
    "print(c)"
   ]
  },
  {
   "cell_type": "markdown",
   "metadata": {},
   "source": [
    "**Comparison operator(비교연산자)**\n",
    "- 프로그래밍에서 비교를 할 경우,= 아닌 == 사용\n",
    "- `>`, <\n",
    "- <=, >=\n",
    "- ==\n",
    "- !=\n",
    "- 비교 연산자의 결과는 bool 타입"
   ]
  },
  {
   "cell_type": "code",
   "execution_count": 16,
   "metadata": {},
   "outputs": [
    {
     "name": "stdout",
     "output_type": "stream",
     "text": [
      "True\n",
      "False\n",
      "True\n",
      "True\n",
      "False\n",
      "True\n",
      "<class 'bool'>\n",
      "True\n"
     ]
    }
   ],
   "source": [
    "a = 5\n",
    "b = 4\n",
    "\n",
    "print(a > b)\n",
    "print(a < b)\n",
    "print(a >= b)\n",
    "print(a >= b)\n",
    "print(a == b)\n",
    "print(a != b)\n",
    "\n",
    "c = a > b\n",
    "c = True\n",
    "print(type(c))\n",
    "print(c)"
   ]
  },
  {
   "cell_type": "markdown",
   "metadata": {},
   "source": [
    "**numbers(숫자형 타입)**\n",
    "- 정수, 실수로 구성\n",
    "- 수학의 기본 연산자(가감승제) 사용 가능"
   ]
  },
  {
   "cell_type": "code",
   "execution_count": 17,
   "metadata": {},
   "outputs": [
    {
     "name": "stdout",
     "output_type": "stream",
     "text": [
      "8\n",
      "0\n",
      "16\n",
      "1.0\n",
      "0\n",
      "256\n"
     ]
    }
   ],
   "source": [
    "a = b\n",
    "b = 4\n",
    "\n",
    "print(a + b)\n",
    "print(a - b)\n",
    "print(a * b)\n",
    "print(a / b)\n",
    "print(a % b)\n",
    "print(a ** b)"
   ]
  },
  {
   "cell_type": "markdown",
   "metadata": {},
   "source": [
    "**operator priorities(연산자 우선순위)**\n",
    "- 기본적인 수학의 연산자와 동일\n",
    "- 강제로 연산을 선수하고자 하는 경우, 괄호() 사용"
   ]
  },
  {
   "cell_type": "markdown",
   "metadata": {},
   "source": [
    "**expression evaluation & assignment**\n",
    "- 변수의 값이 변경되기 위해서는 = 사용하여 대입이 발생해야만 한다"
   ]
  },
  {
   "cell_type": "markdown",
   "metadata": {},
   "source": [
    "## 2. 문자열 타입의 이해 및 활용하기"
   ]
  },
  {
   "cell_type": "markdown",
   "metadata": {},
   "source": [
    "**string(문자열)**\n",
    "- 복수개의 문자를 순서대로 나열\n",
    "- 문자열은 작은 따옴표 혹은 큰 따옴표 사이에 문자를 넣어서 생성\n",
    "- 문자열 자체에 ' 또는 \"가 있는 경우에는 각각 그 반대의 기호로 생성"
   ]
  },
  {
   "cell_type": "markdown",
   "metadata": {},
   "source": [
    "**''' ''' 사용하여 표현 가능**\n",
    "- 차이점\n",
    "    - '', \"\" 한줄 문자열 표현\n",
    "    - ''' ''' 여러 줄에 걸쳐 문자열 표현 가능"
   ]
  },
  {
   "cell_type": "code",
   "execution_count": 19,
   "metadata": {},
   "outputs": [
    {
     "name": "stdout",
     "output_type": "stream",
     "text": [
      "\"Hello\" world\n",
      "Hello' world\n"
     ]
    }
   ],
   "source": [
    "a = '\"Hello\" world'\n",
    "b = \"Hello' world\"\n",
    "print(a)\n",
    "print(b)"
   ]
  },
  {
   "cell_type": "code",
   "execution_count": 20,
   "metadata": {},
   "outputs": [
    {
     "name": "stdout",
     "output_type": "stream",
     "text": [
      "Hello\n",
      "\n",
      "world\n"
     ]
    }
   ],
   "source": [
    "c = '''Hello\n",
    "\n",
    "world'''\n",
    "print(c)"
   ]
  },
  {
   "cell_type": "markdown",
   "metadata": {},
   "source": [
    "**escape string(이스케이프 문자)**\n",
    "- 문자열 내의 일부 문자를 달리하여 `특정한 효과`를 주는 것\n",
    "- `\\n` : new line `\\t` : tab 등"
   ]
  },
  {
   "cell_type": "code",
   "execution_count": 22,
   "metadata": {},
   "outputs": [
    {
     "name": "stdout",
     "output_type": "stream",
     "text": [
      "hello world\n",
      "\n",
      "\n",
      "ha\thahaha\n"
     ]
    }
   ],
   "source": [
    "print('hello world\\n\\n')\n",
    "print('ha\\thahaha')"
   ]
  },
  {
   "cell_type": "markdown",
   "metadata": {},
   "source": [
    "**indexing & slicing string(문자열 인덱스 및 추출)**\n",
    "- 문자열의 각 문자는 순서가 있음\n",
    "- 각 문자열의 순서를 **인덱스**라고 함\n",
    "- 첫번째 문자부터 마지막까지 차례대로의 순서가짐\n",
    "- 첫번째 시작문자의 순서는 0으로 시작(1 아님)"
   ]
  },
  {
   "cell_type": "markdown",
   "metadata": {},
   "source": [
    "**-1인덱스**\n",
    "- 다른 언어와 달리, python의 경우 음수 인덱스를 지원\n",
    "- -1이 가장 마지막 인덱스를, -2가 마지막에서 두번째 인덱스를 의미함"
   ]
  },
  {
   "cell_type": "code",
   "execution_count": 24,
   "metadata": {},
   "outputs": [
    {
     "data": {
      "text/plain": [
       "'y'"
      ]
     },
     "execution_count": 24,
     "metadata": {},
     "output_type": "execute_result"
    }
   ],
   "source": [
    "a = 'happy birthday'\n",
    "a[-1]"
   ]
  },
  {
   "cell_type": "markdown",
   "metadata": {},
   "source": [
    "**인덱스의 범위**\n",
    "- 인덱스는 [0, 문자열의 길이]의 범위만 유효\n",
    "- 음수 인덱스를 사용할 경우, [-문자열의 길이, -1]\n",
    "- 범위 넘어갈 경우 에러 발생"
   ]
  },
  {
   "cell_type": "markdown",
   "metadata": {},
   "source": [
    "**문자열 slicing**\n",
    "- 인덱스가 하나의 문자만 추출할 때, slicing은 부분 문자열을 추출!\n",
    "- [시작:끝]와 같이 명시하여 [시작 끝]에 해당하는 부분 문자열을 추출\n",
    "- 시작, 끝 인덱스가 생략되어있다면, 0부터 혹은 끝까지로 간주"
   ]
  },
  {
   "cell_type": "code",
   "execution_count": 25,
   "metadata": {},
   "outputs": [
    {
     "data": {
      "text/plain": [
       "'hell'"
      ]
     },
     "execution_count": 25,
     "metadata": {},
     "output_type": "execute_result"
    }
   ],
   "source": [
    "a = 'hello world'\n",
    "a[0:4]"
   ]
  },
  {
   "cell_type": "markdown",
   "metadata": {},
   "source": [
    "**문자열 함수**\n",
    "- 문자열은 여러가지 기능 제공을 위한 함수를 내장\n",
    "- 함수? 특정 기능을 하는 코드, 언제든지 호출, 해당 기능 사용"
   ]
  },
  {
   "cell_type": "code",
   "execution_count": 27,
   "metadata": {},
   "outputs": [
    {
     "data": {
      "text/plain": [
       "'HELLO WORLD'"
      ]
     },
     "execution_count": 27,
     "metadata": {},
     "output_type": "execute_result"
    }
   ],
   "source": [
    "a = 'hello world'\n",
    "a.upper()"
   ]
  },
  {
   "cell_type": "markdown",
   "metadata": {},
   "source": [
    "- **replace**\n",
    "    - 문자열 내의 특정 문자를 치환"
   ]
  },
  {
   "cell_type": "code",
   "execution_count": 28,
   "metadata": {},
   "outputs": [
    {
     "data": {
      "text/plain": [
       "'jello world'"
      ]
     },
     "execution_count": 28,
     "metadata": {},
     "output_type": "execute_result"
    }
   ],
   "source": [
    "a = 'hello world'\n",
    "a.replace('h', 'j')"
   ]
  },
  {
   "cell_type": "markdown",
   "metadata": {},
   "source": [
    "- **format**\n",
    "    - 문자열 내의 특정한 값을 변수로부터 초기화하여 동적으로 문자열 생성"
   ]
  },
  {
   "cell_type": "code",
   "execution_count": 32,
   "metadata": {},
   "outputs": [
    {
     "name": "stdout",
     "output_type": "stream",
     "text": [
      "오늘 기온 25.5도 이고, 비올 확률은 80.0% 입니다.\n"
     ]
    }
   ],
   "source": [
    "temp = 25.5\n",
    "prob = 80.0\n",
    "a = '오늘 기온 {}도 이고, 비올 확률은 {}% 입니다.'.format(temp, prob)\n",
    "print(a)"
   ]
  },
  {
   "cell_type": "markdown",
   "metadata": {},
   "source": [
    "- **split**\n",
    "    - 문자열을 특정한 문자 구분하여(delimiter) 문자열의 리스트로 치환"
   ]
  },
  {
   "cell_type": "code",
   "execution_count": 33,
   "metadata": {},
   "outputs": [
    {
     "data": {
      "text/plain": [
       "['hello', 'world', 'what', 'a', 'nice', 'weather']"
      ]
     },
     "execution_count": 33,
     "metadata": {},
     "output_type": "execute_result"
    }
   ],
   "source": [
    "a = 'hello world what a nice weather'\n",
    "a.split()"
   ]
  },
  {
   "cell_type": "markdown",
   "metadata": {},
   "source": []
  }
 ],
 "metadata": {
  "kernelspec": {
   "display_name": "Python 3",
   "language": "python",
   "name": "python3"
  },
  "language_info": {
   "codemirror_mode": {
    "name": "ipython",
    "version": 3
   },
   "file_extension": ".py",
   "mimetype": "text/x-python",
   "name": "python",
   "nbconvert_exporter": "python",
   "pygments_lexer": "ipython3",
   "version": "3.8.5"
  }
 },
 "nbformat": 4,
 "nbformat_minor": 4
}
